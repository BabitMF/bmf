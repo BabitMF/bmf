{
  "cells": [
    {
      "cell_type": "markdown",
      "metadata": {
        "id": "lxI1JxQ5-P_V"
      },
      "source": [
        "# getting ready\n",
        "安装相关依赖"
      ]
    },
    {
      "cell_type": "markdown",
      "source": [
        "step1 下载onnx模型与测试视频\n"
      ],
      "metadata": {
        "id": "srI36yYZ_V2g"
      }
    },
    {
      "cell_type": "code",
      "source": [
        "!gdown --fuzzy https://github.com/BabitMF/bmf/releases/download/files/models.tar.gz\n",
        "!gdown --fuzzy https://github.com/BabitMF/bmf/releases/download/files/files.tar.gz\n",
        "!tar xzvf models.tar.gz\n",
        "!tar xzvf files.tar.gz"
      ],
      "metadata": {
        "id": "ZbGVuigI_O5r"
      },
      "execution_count": null,
      "outputs": []
    },
    {
      "cell_type": "markdown",
      "source": [
        "step2 安装BMF、onnxruntime-module"
      ],
      "metadata": {
        "id": "V5R2gGuo_k7y"
      }
    },
    {
      "cell_type": "code",
      "execution_count": null,
      "metadata": {
        "id": "RpvU1uEd-jp8"
      },
      "outputs": [],
      "source": [
        "!pip install BabitMF\n",
        "!pip3 install onnxruntime\n"
      ]
    },
    {
      "cell_type": "markdown",
      "source": [
        "step3 获取BMF源码，找到demo模块，测试modules和model文件可以正常使用"
      ],
      "metadata": {
        "id": "cTsnAaR57zwd"
      }
    },
    {
      "cell_type": "code",
      "source": [
        "!git clone https://github.com/BabitMF/bmf.git"
      ],
      "metadata": {
        "id": "YTZynL_DcR8E"
      },
      "execution_count": null,
      "outputs": []
    },
    {
      "cell_type": "code",
      "source": [
        "!cp /content/bmf/bmf/demo/aesthetic_assessment/*.py ."
      ],
      "metadata": {
        "id": "9xpQzELLcwuZ"
      },
      "execution_count": null,
      "outputs": []
    },
    {
      "cell_type": "code",
      "source": [
        "import bmf\n",
        "import sys\n",
        "import onnxruntime as ort\n",
        "from module_utils import SyncModule\n",
        "import aesmod_module\n",
        "import onnxruntime as ort\n",
        "import os.path as osp\n",
        "model_dir = osp.join(osp.abspath(osp.dirname('__file__')), 'models')\n",
        "aesmod_ort_model_path = osp.realpath(osp.join(model_dir, 'aes_transonnx_update3.onnx'))\n",
        "print(aesmod_ort_model_path)\n",
        "ort_session = ort.InferenceSession(aesmod_ort_model_path)"
      ],
      "metadata": {
        "id": "UJaxbai9NwsJ"
      },
      "execution_count": null,
      "outputs": []
    },
    {
      "cell_type": "markdown",
      "metadata": {
        "id": "JLmIr9To8Wui"
      },
      "source": [
        "# source code\n",
        "\n",
        "##aesmod_module.py\n",
        "\n",
        "\n",
        "*   func get_logger()\n",
        "*   func flex_resize_aesv2()\n",
        "*   class Aesmod\n",
        "*   class BMFAesmod\n",
        "\n",
        "\n",
        "##module_utils.py\n",
        "\n",
        "\n",
        "*   class SyncModule\n",
        "\n",
        "\n",
        "##main.py\n",
        "main program for calling bmf api and visualize output\n",
        "*   func segment_decode_ticks()\n",
        "*   func get_duration()\n",
        "\n"
      ]
    },
    {
      "cell_type": "code",
      "source": [
        "!cat aesmod_module.py"
      ],
      "metadata": {
        "id": "fdKN6kwFzwGb"
      },
      "execution_count": null,
      "outputs": []
    },
    {
      "cell_type": "code",
      "source": [
        "!cat module_utils.py"
      ],
      "metadata": {
        "id": "qdxDsiSvz5JU"
      },
      "execution_count": null,
      "outputs": []
    },
    {
      "cell_type": "code",
      "execution_count": null,
      "metadata": {
        "id": "3An0nCEm7zXD"
      },
      "outputs": [],
      "source": [
        "#!/usr/bin/env python3\n",
        "# -*- coding: utf-8 -*-\n",
        "\n",
        "import bmf\n",
        "import cv2, os, sys\n",
        "\n",
        "def get_duration(video_path):\n",
        "    capture = cv2.VideoCapture(video_path)\n",
        "    fps = capture.get(cv2.CAP_PROP_FPS)      # OpenCV2 version 2 used \"CV_CAP_PROP_FPS\"\n",
        "    frame_count = int(capture.get(cv2.CAP_PROP_FRAME_COUNT))\n",
        "    duration = frame_count / fps\n",
        "    capture.release()\n",
        "    return duration\n",
        "\n",
        "def segment_decode_ticks(video_path, seg_dur=4.0, lv1_dur_thres=24.0, max_dur=1000):\n",
        "    '''\n",
        "        bmf module new decode duration ticks\n",
        "        - 0 < Duration <= 24s, 抽帧间隔r=1, 抽帧0~24帧\n",
        "        - 24s < Duration <= 600s 分片抽取, 抽帧间隔r=1, 抽帧24帧\n",
        "            - 6个4s切片, 共计6x4=24帧\n",
        "        - duration > 600s, 分8片抽帧r=1, 抽帧数量32帧\n",
        "            - (600, inf), 8个4s切片, 共计8x4=32帧\n",
        "        最大解码长度 max_dur: 1000s\n",
        "    '''\n",
        "    duration = get_duration(video_path)\n",
        "    duration_ticks = []\n",
        "    if duration < lv1_dur_thres:\n",
        "        return dict()\n",
        "    elif duration <= 600:  # medium duration\n",
        "        seg_num = 6\n",
        "        seg_intev = (duration - seg_num * seg_dur) / (seg_num - 1)\n",
        "        if seg_intev < 0.5:\n",
        "            duration_ticks.extend([0, duration])\n",
        "        else:\n",
        "            for s_i in range(seg_num):\n",
        "                seg_init = s_i * (seg_dur + seg_intev)\n",
        "                seg_end = seg_init + seg_dur\n",
        "                duration_ticks.extend([round(seg_init, 3), round(seg_end, 3)])\n",
        "    else:  # long duration\n",
        "        seg_num = 8\n",
        "        seg_intev = (min(duration, max_dur) - seg_num * seg_dur) / (seg_num - 1)\n",
        "        for s_i in range(seg_num):\n",
        "            seg_init = s_i * (seg_dur + seg_intev)\n",
        "            seg_end = seg_init + seg_dur\n",
        "            duration_ticks.extend([round(seg_init, 3), round(seg_end, 3)])\n",
        "    return {'durations': duration_ticks}\n",
        "\n",
        "\n",
        "if __name__ == \"__main__\":\n",
        "  input_path = \"files/bbb_360_20s.mp4\"\n",
        "  outp_path = 'res2.json'\n",
        "\n",
        "  option = dict()\n",
        "  option['output_path'] = outp_path\n",
        "  print('option',option)\n",
        "  duration_segs = segment_decode_ticks(input_path)\n",
        "  decode_params = {'input_path': input_path, 'video_params': {'extract_frames': {'fps': 1}}}\n",
        "  decode_params.update(duration_segs)\n",
        "  print('decode_params',decode_params)\n",
        "  # module process\n",
        "\n",
        "  py_module_path = os.path.abspath(os.path.dirname(os.path.dirname('__file__')))\n",
        "  py_entry = 'aesmod_module.BMFAesmod'\n",
        "  print(py_module_path, py_entry)\n",
        "\n",
        "  streams = bmf.graph().decode(decode_params)\n",
        "  video_stream = streams['video'].module('aesmod_module',\n",
        "                                        option,\n",
        "                                        py_module_path,\n",
        "                                        py_entry)\n",
        "  video_stream.run()\n",
        "\n"
      ]
    },
    {
      "cell_type": "code",
      "source": [
        "!cat res2.json"
      ],
      "metadata": {
        "id": "IgzO4K01jdjU"
      },
      "execution_count": null,
      "outputs": []
    },
    {
      "cell_type": "markdown",
      "source": [
        "res2.json的aesthetic给视频打分。评分区间映射至[0, 100]，分数越高代表画面的美学水平越高;  其中在AVA数据集上好坏分类的阈值5分映射为70.5分。\n",
        "在对画面的分析中，美学是一个重要的维度。对于画面客观质量相似的画面，美学维度的评价能够进一步丰富对人类感知的拟合。对于图像美感的评价综合了色彩相关（亮度/饱和度/色彩丰富度...）、构图相关（三分线构图/对称性/前景背景对比）、语义相关（主题是否明确）、画质相关（纹理是否丰富清晰）等多个维度，同时除了摄影经验之外，图像的审美质量还受到情感和个人偏好的影响，例如对不同内容类型或风格的偏好。综上实际上的预测精度与主观感受仍然相差较大。"
      ],
      "metadata": {
        "id": "mKcZqOW40GQp"
      }
    }
  ],
  "metadata": {
    "colab": {
      "provenance": []
    },
    "kernelspec": {
      "display_name": "Python 3",
      "name": "python3"
    },
    "language_info": {
      "name": "python"
    }
  },
  "nbformat": 4,
  "nbformat_minor": 0
}